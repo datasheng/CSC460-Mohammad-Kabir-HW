{
  "nbformat": 4,
  "nbformat_minor": 0,
  "metadata": {
    "colab": {
      "provenance": []
    },
    "kernelspec": {
      "name": "python3",
      "display_name": "Python 3"
    },
    "language_info": {
      "name": "python"
    }
  },
  "cells": [
    {
      "cell_type": "code",
      "execution_count": 75,
      "metadata": {
        "id": "sL2Z8ognl9Pi",
        "colab": {
          "base_uri": "https://localhost:8080/"
        },
        "outputId": "7a7d4b45-26f2-4e5f-cf03-4e7deaf77b1c"
      },
      "outputs": [
        {
          "output_type": "stream",
          "name": "stdout",
          "text": [
            "           day of the Week                                               text\n",
            "date                                                                         \n",
            "2021-08-01          Sunday  Application for degree for January and Februar...\n",
            "2021-08-18       Wednesday                 Last day to apply for Study Abroad\n",
            "2021-08-24         Tuesday  Last day of Registration;   Last day to file e...\n",
            "2021-08-25       Wednesday  Start of Fall Term;   Classes begin;   Initial...\n",
            "2021-08-25       Wednesday          Change of program period; late fees apply\n",
            "2021-08-26        Thursday                     Last day for Independent Study\n",
            "2021-08-28        Saturday                      First day of Saturday Classes\n",
            "2021-08-31         Tuesday  Last day to add a class to an existing enrollm...\n",
            "2021-09-01       Wednesday  Verification of Enrollment rosters available t...\n",
            "2021-09-03          Friday                               No classes scheduled\n",
            "2021-09-06          Monday  College Closed;   Last day for 50% tuition ref...\n",
            "2021-09-09        Thursday                               Freshman Convocation\n",
            "2021-09-14         Tuesday  Last day for 25% tuition refund;   Census date...\n",
            "2021-09-15       Wednesday  Assignment of 'WN' grades for non-attendance; ...\n",
            "2021-09-15       Wednesday                               No classes scheduled\n",
            "2021-09-23        Thursday  Last day to submit proof of immunization for N...\n",
            "2021-09-24          Friday  Assignment of 'WA' grades for immunization non...\n",
            "2021-10-01          Friday  Advising month begins for Spring and Winter en...\n",
            "2021-10-08          Friday  Deadline for filing application for degree for...\n",
            "2021-10-11          Monday                                     College Closed\n",
            "2021-11-01          Monday  'INC' grades for Spring 2021 and Winter 2021 f...\n",
            "2021-11-02         Tuesday  Registration appointments for Winter and Sprin...\n",
            "2021-11-04        Thursday                   Last day to file for P/NC option\n",
            "2021-11-06        Saturday                               60% Date of the term\n",
            "2021-11-23         Tuesday  'INC' grades for Summer 2021 for Undergraduate...\n",
            "2021-11-25        Thursday                                     College Closed\n",
            "2021-12-11        Saturday                       Last day of Saturday Classes\n",
            "2021-12-13          Monday  Course Withdrawal period ends (Last day to wit...\n",
            "2021-12-14         Tuesday                                        Reading Day\n",
            "2021-12-15       Wednesday                                 Final Examinations\n",
            "2021-12-21         Tuesday                                        End of Term\n",
            "2021-12-24          Friday                                     College Closed\n",
            "2021-12-27          Monday                                     College Closed\n",
            "2021-12-28         Tuesday      Final Grade Submission Deadline for Fall 2021\n",
            "2021-12-31          Friday                                     College Closed\n",
            "2022-01-01        Saturday  College Closed;   Fall 2021 Degree Conferral D...\n"
          ]
        }
      ],
      "source": [
        "import pandas as pd\n",
        "from bs4 import BeautifulSoup\n",
        "import requests\n",
        "from datetime import datetime\n",
        "\n",
        "def pytDate(x):\n",
        "  x = x.strip()\n",
        "\n",
        "  if \",\" in x and len(x.split(','))>1:\n",
        "    return datetime.strptime(x, '%B %d, %Y').date()\n",
        "  else:\n",
        "    rightYear = \", 2021\"\n",
        "    date_parts = x.split(\"-\")\n",
        "    date_str = date_parts[0].strip() + rightYear\n",
        "\n",
        "    datePyth = datetime.strptime(date_str, '%B %d, %Y').date()\n",
        "    return datePyth\n",
        "\n",
        "def dow(x):\n",
        "  x = x.strip()\n",
        "  day = x.split(\" -\")[0]\n",
        "  return day\n",
        "\n",
        "def cleanExplain(x):\n",
        "  x = x.strip()\n",
        "  explain = x.replace(\"\\n\\t\\t\\t\",\"   \")\n",
        "  return explain\n",
        "\n",
        "url = 'https://www.ccny.cuny.edu/registrar/fall'\n",
        "fallcal = requests.get(url)\n",
        "html_doc = fallcal.text\n",
        "calendarSoup = BeautifulSoup(html_doc, 'html5lib')\n",
        "\n",
        "contents = []\n",
        "table = calendarSoup.find('table', {\"align\": \"center\", \"border\": \"3\", \"cellpadding\": \"1\", \"cellspacing\": \"1\", \"style\": \"width:1272px\"})\n",
        "\n",
        "for row in table.find_all(\"tr\")[1:]:\n",
        "  cols = row.find_all(\"td\")\n",
        "  content={}\n",
        "  content['date'] = pytDate(cols[0].text)\n",
        "  content['day of the Week'] = dow(cols[1].text)\n",
        "  content['text'] = cleanExplain(cols[2].text)\n",
        "  contents.append(content)\n",
        "\n",
        "caldf = pd.DataFrame(contents)\n",
        "caldf = caldf.set_index('date')\n",
        "print(caldf)"
      ]
    }
  ]
}